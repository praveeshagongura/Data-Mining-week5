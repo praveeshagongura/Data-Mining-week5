{
 "cells": [
  {
   "cell_type": "markdown",
   "id": "ea46dddc-ca21-4aaf-9b08-ef918904d28a",
   "metadata": {},
   "source": [
    "## Importing libraries"
   ]
  },
  {
   "cell_type": "code",
   "execution_count": 7,
   "id": "951cb2b3-a646-4942-b58f-d50e665c4fb5",
   "metadata": {},
   "outputs": [],
   "source": [
    "import pandas as pd\n",
    "import numpy as np\n",
    "from sklearn.feature_extraction.text import TfidfVectorizer\n",
    "from sklearn.model_selection import train_test_split\n",
    "from sklearn.naive_bayes import MultinomialNB\n",
    "from sklearn.pipeline import make_pipeline\n",
    "from sklearn.metrics import accuracy_score, classification_report"
   ]
  },
  {
   "cell_type": "markdown",
   "id": "7d81b2d8-76c6-4a6d-bcb3-dc689fb7bece",
   "metadata": {},
   "source": [
    "## Loading Dataset"
   ]
  },
  {
   "cell_type": "code",
   "execution_count": 10,
   "id": "19ea0d1b-a3da-4f6f-b3e2-046423558b51",
   "metadata": {},
   "outputs": [],
   "source": [
    "df = pd.read_csv('/Users/praveesha/Desktop/IS733/lab/Lab5/spam_dataset.csv')"
   ]
  },
  {
   "cell_type": "markdown",
   "id": "e3155d97-69a0-4b7e-9ebd-4c5a9a42650f",
   "metadata": {},
   "source": [
    "## Naive Bayes"
   ]
  },
  {
   "cell_type": "code",
   "execution_count": 13,
   "id": "c2903abf-9e9e-4322-aa9d-62f07ffcce14",
   "metadata": {},
   "outputs": [
    {
     "name": "stdout",
     "output_type": "stream",
     "text": [
      "Accuracy: 66.67%\n",
      "              precision    recall  f1-score   support\n",
      "\n",
      "         Ham       0.50      1.00      0.67         1\n",
      "        Spam       1.00      0.50      0.67         2\n",
      "\n",
      "    accuracy                           0.67         3\n",
      "   macro avg       0.75      0.75      0.67         3\n",
      "weighted avg       0.83      0.67      0.67         3\n",
      "\n"
     ]
    }
   ],
   "source": [
    "# Separate features and target\n",
    "X_text = df['Content']  # Mail content\n",
    "X_numeric = df[['win', 'click', 'team', 'claim', 'reminder']]  # Other features\n",
    "y = df['Category']  # Target variable (Spam, Ham)\n",
    "\n",
    "# Convert the category to numerical labels (Spam=1, Ham=0)\n",
    "y = y.map({'Spam': 1, 'Ham': 0})\n",
    "\n",
    "# Split the data into training and testing sets\n",
    "X_train_text, X_test_text, X_train_num, X_test_num, y_train, y_test = train_test_split(\n",
    "    X_text, X_numeric, y, test_size=0.2, random_state=42)\n",
    "\n",
    "# Create a TfidfVectorizer to transform the 'content' column\n",
    "vectorizer = TfidfVectorizer(stop_words='english', max_features=1000)\n",
    "\n",
    "# Vectorize the training and test data (content)\n",
    "X_train_text_tfidf = vectorizer.fit_transform(X_train_text)\n",
    "X_test_text_tfidf = vectorizer.transform(X_test_text)\n",
    "\n",
    "# Concatenate the numerical features with the text features\n",
    "from scipy.sparse import hstack\n",
    "X_train = hstack([X_train_text_tfidf, X_train_num])\n",
    "X_test = hstack([X_test_text_tfidf, X_test_num])\n",
    "\n",
    "# Train a Naive Bayes classifier\n",
    "nb = MultinomialNB()\n",
    "nb.fit(X_train, y_train)\n",
    "\n",
    "# Predict on the test set\n",
    "y_pred = nb.predict(X_test)\n",
    "\n",
    "# Evaluate the model\n",
    "accuracy = accuracy_score(y_test, y_pred)\n",
    "print(f'Accuracy: {accuracy * 100:.2f}%')\n",
    "\n",
    "# Detailed classification report\n",
    "print(classification_report(y_test, y_pred, target_names=['Ham', 'Spam']))\n"
   ]
  },
  {
   "cell_type": "markdown",
   "id": "d67cb9d2-e4c2-4296-8884-e8dfda55fd54",
   "metadata": {},
   "source": [
    "### Improved model - Naive Bayes\n",
    "\n",
    "##### Minmax Scaler\n",
    "##### Bi-grams in text data\n",
    "##### Tuning TfidfVectorizer Parameters"
   ]
  },
  {
   "cell_type": "code",
   "execution_count": 16,
   "id": "8353dce5-2cd2-417c-96a1-9880c60dd3c3",
   "metadata": {},
   "outputs": [
    {
     "name": "stdout",
     "output_type": "stream",
     "text": [
      "Accuracy: 100.00%\n",
      "              precision    recall  f1-score   support\n",
      "\n",
      "         Ham       1.00      1.00      1.00         1\n",
      "        Spam       1.00      1.00      1.00         2\n",
      "\n",
      "    accuracy                           1.00         3\n",
      "   macro avg       1.00      1.00      1.00         3\n",
      "weighted avg       1.00      1.00      1.00         3\n",
      "\n"
     ]
    }
   ],
   "source": [
    "from sklearn.feature_extraction.text import TfidfVectorizer\n",
    "from sklearn.model_selection import train_test_split, GridSearchCV\n",
    "from sklearn.naive_bayes import ComplementNB\n",
    "from sklearn.preprocessing import MinMaxScaler\n",
    "from sklearn.pipeline import Pipeline\n",
    "from sklearn.metrics import accuracy_score, classification_report\n",
    "\n",
    "# Separate features and target\n",
    "X_text = df['Content']\n",
    "X_numeric = df[['win', 'click', 'team', 'claim', 'reminder']]\n",
    "y = df['Category']\n",
    "\n",
    "# Convert the category to numerical labels (Spam=1, Ham=0)\n",
    "y = y.map({'Spam': 1, 'Ham': 0})\n",
    "\n",
    "# Train-test split\n",
    "X_train_text, X_test_text, X_train_num, X_test_num, y_train, y_test = train_test_split(\n",
    "    X_text, X_numeric, y, test_size=0.2, random_state=42)\n",
    "\n",
    "# Create a TfidfVectorizer with optimized parameters\n",
    "vectorizer = TfidfVectorizer(stop_words='english', max_features=1500, ngram_range=(1, 2), min_df=2)\n",
    "\n",
    "# Normalize numeric features using MinMaxScaler\n",
    "scaler = MinMaxScaler()\n",
    "\n",
    "# Apply scaling to numeric data\n",
    "X_train_num_scaled = scaler.fit_transform(X_train_num)\n",
    "X_test_num_scaled = scaler.transform(X_test_num)\n",
    "\n",
    "# Vectorize the text data\n",
    "X_train_text_tfidf = vectorizer.fit_transform(X_train_text)\n",
    "X_test_text_tfidf = vectorizer.transform(X_test_text)\n",
    "\n",
    "# Combine the text and numeric features\n",
    "from scipy.sparse import hstack\n",
    "X_train = hstack([X_train_text_tfidf, X_train_num_scaled])\n",
    "X_test = hstack([X_test_text_tfidf, X_test_num_scaled])\n",
    "\n",
    "# Use ComplementNB for better handling of imbalanced data\n",
    "nb = ComplementNB()\n",
    "\n",
    "# Train the model\n",
    "nb.fit(X_train, y_train)\n",
    "\n",
    "# Predict on the test set\n",
    "y_pred = nb.predict(X_test)\n",
    "\n",
    "# Evaluate the model\n",
    "accuracy = accuracy_score(y_test, y_pred)\n",
    "print(f'Accuracy: {accuracy * 100:.2f}%')\n",
    "\n",
    "# Detailed classification report\n",
    "print(classification_report(y_test, y_pred, target_names=['Ham', 'Spam']))\n"
   ]
  },
  {
   "cell_type": "markdown",
   "id": "d1140377-b89b-46a1-9067-941508c87475",
   "metadata": {},
   "source": [
    "## KNN Classifier"
   ]
  },
  {
   "cell_type": "code",
   "execution_count": 24,
   "id": "eda8ccf0-d038-4eaf-b887-3841e15b2f8b",
   "metadata": {},
   "outputs": [
    {
     "name": "stdout",
     "output_type": "stream",
     "text": [
      "Optimal k with Leave-One-Out CV: 3\n",
      "Model trained with optimal k: 3\n",
      "Accuracy with optimal k: 100.00%\n"
     ]
    }
   ],
   "source": [
    "from sklearn.model_selection import LeaveOneOut, GridSearchCV\n",
    "from sklearn.neighbors import KNeighborsClassifier\n",
    "from sklearn.metrics import accuracy_score\n",
    "from scipy.sparse import hstack\n",
    "from sklearn.preprocessing import MinMaxScaler\n",
    "from sklearn.feature_extraction.text import TfidfVectorizer\n",
    "import pandas as pd\n",
    "\n",
    "\n",
    "# Separate features and target\n",
    "X_text = df['Content']\n",
    "X_numeric = df[['win', 'click', 'team', 'claim', 'reminder']]\n",
    "y = df['Category']\n",
    "\n",
    "# Convert category to numerical labels (Spam=1, Ham=0)\n",
    "y = y.map({'Spam': 1, 'Ham': 0})\n",
    "\n",
    "# Vectorize the text content using TfidfVectorizer\n",
    "vectorizer = TfidfVectorizer(stop_words='english', max_features=1000)\n",
    "X_text_tfidf = vectorizer.fit_transform(X_text)\n",
    "\n",
    "# Scale the numeric features using MinMaxScaler\n",
    "scaler = MinMaxScaler()\n",
    "X_numeric_scaled = scaler.fit_transform(X_numeric)\n",
    "\n",
    "# Concatenate text features with numeric features\n",
    "X = hstack([X_text_tfidf, X_numeric_scaled])\n",
    "\n",
    "# Initialize the KNN classifier\n",
    "knn = KNeighborsClassifier()\n",
    "\n",
    "# Use Leave-One-Out Cross-Validation (LOO-CV)\n",
    "loo = LeaveOneOut()\n",
    "\n",
    "# Define the parameter grid to search for optimal k\n",
    "param_grid = {'n_neighbors': range(1, 15)}  # Given 15 instances, k can range from 1 to 14\n",
    "\n",
    "# Set up GridSearchCV to search for the best k using LOO-CV\n",
    "grid_search = GridSearchCV(knn, param_grid, cv=loo, scoring='accuracy')\n",
    "\n",
    "# Train the model with GridSearchCV\n",
    "grid_search.fit(X, y)\n",
    "\n",
    "# Get the best k value\n",
    "best_k = grid_search.best_params_['n_neighbors']\n",
    "print(f'Optimal k with Leave-One-Out CV: {best_k}')\n",
    "\n",
    "# Train the KNN classifier with the optimal k\n",
    "knn_best = KNeighborsClassifier(n_neighbors=best_k)\n",
    "knn_best.fit(X, y)\n",
    "\n",
    "# Since LOO-CV doesn't leave a test set, this is the best overall model for your data\n",
    "print(f'Model trained with optimal k: {best_k}')\n",
    "\n",
    "\n",
    "# Train the KNN classifier with the optimal k\n",
    "knn_best = KNeighborsClassifier(n_neighbors=best_k)\n",
    "knn_best.fit(X_train, y_train)\n",
    "\n",
    "# Predict on the test set\n",
    "y_pred = knn_best.predict(X_test)\n",
    "\n",
    "# Evaluate the model\n",
    "accuracy = accuracy_score(y_test, y_pred)\n",
    "print(f'Accuracy with optimal k: {accuracy * 100:.2f}%')\n",
    "\n"
   ]
  },
  {
   "cell_type": "markdown",
   "id": "bee40a4e-c918-4cae-838a-a7351247df4a",
   "metadata": {},
   "source": [
    "## Decision Tree Classifier\n",
    "#### ROC curve\n",
    "#### AUC score"
   ]
  },
  {
   "cell_type": "code",
   "execution_count": 28,
   "id": "05e2895c-b53e-4067-a061-daf9fcda9632",
   "metadata": {},
   "outputs": [
    {
     "data": {
      "image/png": "[encoded data removed]",
      "text/plain": [
       "<Figure size 1000x600 with 1 Axes>"
      ]
     },
     "metadata": {},
     "output_type": "display_data"
    },
    {
     "name": "stdout",
     "output_type": "stream",
     "text": [
      "AUC Score: 0.93\n",
      "Accuracy: 93.33%\n",
      "              precision    recall  f1-score   support\n",
      "\n",
      "         Ham       0.89      1.00      0.94         8\n",
      "        Spam       1.00      0.86      0.92         7\n",
      "\n",
      "    accuracy                           0.93        15\n",
      "   macro avg       0.94      0.93      0.93        15\n",
      "weighted avg       0.94      0.93      0.93        15\n",
      "\n"
     ]
    }
   ],
   "source": [
    "import pandas as pd\n",
    "from sklearn.feature_extraction.text import TfidfVectorizer\n",
    "from sklearn.model_selection import train_test_split, cross_val_predict\n",
    "from sklearn.tree import DecisionTreeClassifier\n",
    "from sklearn.preprocessing import MinMaxScaler\n",
    "from sklearn.metrics import roc_curve, auc, accuracy_score, classification_report\n",
    "import matplotlib.pyplot as plt\n",
    "from scipy.sparse import hstack\n",
    "\n",
    "# Separate features and target\n",
    "X_text = df['Content']  # Mail content\n",
    "X_numeric = df[['win', 'click', 'team', 'claim', 'reminder']]  # Other features\n",
    "y = df['Category'].map({'Spam': 1, 'Ham': 0})  # Convert to numerical labels\n",
    "\n",
    "# Vectorize the text content using TfidfVectorizer\n",
    "vectorizer = TfidfVectorizer(stop_words='english', max_features=1000)\n",
    "X_text_tfidf = vectorizer.fit_transform(X_text)\n",
    "\n",
    "# Scale the numeric features using MinMaxScaler\n",
    "scaler = MinMaxScaler()\n",
    "X_numeric_scaled = scaler.fit_transform(X_numeric)\n",
    "\n",
    "# Combine text and numeric features\n",
    "X = hstack([X_text_tfidf, X_numeric_scaled])\n",
    "\n",
    "# Initialize the Decision Tree classifier\n",
    "dt_classifier = DecisionTreeClassifier(random_state=42)\n",
    "\n",
    "# Perform cross-validation and predict probabilities for ROC curve\n",
    "y_scores = cross_val_predict(dt_classifier, X, y, cv=5, method='predict_proba')[:, 1]\n",
    "\n",
    "# Calculate ROC curve\n",
    "fpr, tpr, thresholds = roc_curve(y, y_scores)\n",
    "roc_auc = auc(fpr, tpr)\n",
    "\n",
    "# Plot the ROC curve\n",
    "plt.figure(figsize=(10, 6))\n",
    "plt.plot(fpr, tpr, color='blue', label='ROC curve (area = {:.2f})'.format(roc_auc))\n",
    "plt.plot([0, 1], [0, 1], color='red', linestyle='--')  # Diagonal line\n",
    "plt.xlim([0.0, 1.0])\n",
    "plt.ylim([0.0, 1.05])\n",
    "plt.xlabel('False Positive Rate')\n",
    "plt.ylabel('True Positive Rate')\n",
    "plt.title('Receiver Operating Characteristic (ROC) Curve')\n",
    "plt.legend(loc='lower right')\n",
    "plt.grid()\n",
    "plt.show()\n",
    "\n",
    "# Print AUC score\n",
    "print(f'AUC Score: {roc_auc:.2f}')\n",
    "\n",
    "# Optionally print accuracy and classification report\n",
    "y_pred = (y_scores >= 0.5).astype(int)\n",
    "accuracy = accuracy_score(y, y_pred)\n",
    "print(f'Accuracy: {accuracy * 100:.2f}%')\n",
    "print(classification_report(y, y_pred, target_names=['Ham', 'Spam']))\n"
   ]
  },
  {
   "cell_type": "code",
   "execution_count": null,
   "id": "142e71a3-d05e-4713-b2d6-11a6208dc023",
   "metadata": {},
   "outputs": [],
   "source": []
  }
 ],
 "metadata": {
  "kernelspec": {
   "display_name": "Python 3 (ipykernel)",
   "language": "python",
   "name": "python3"
  },
  "language_info": {
   "codemirror_mode": {
    "name": "ipython",
    "version": 3
   },
   "file_extension": ".py",
   "mimetype": "text/x-python",
   "name": "python",
   "nbconvert_exporter": "python",
   "pygments_lexer": "ipython3",
   "version": "3.12.4"
  }
 },
 "nbformat": 4,
 "nbformat_minor": 5
}
